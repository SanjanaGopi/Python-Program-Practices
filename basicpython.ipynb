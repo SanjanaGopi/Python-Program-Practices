{
  "nbformat": 4,
  "nbformat_minor": 0,
  "metadata": {
    "colab": {
      "provenance": [],
      "toc_visible": true,
      "authorship_tag": "ABX9TyMITo6iJsou5rwW1ww7tqxw",
      "include_colab_link": true
    },
    "kernelspec": {
      "name": "python3",
      "display_name": "Python 3"
    },
    "language_info": {
      "name": "python"
    }
  },
  "cells": [
    {
      "cell_type": "markdown",
      "metadata": {
        "id": "view-in-github",
        "colab_type": "text"
      },
      "source": [
        "<a href=\"https://colab.research.google.com/github/SanjanaGopi/Python-Program-Practices/blob/main/basicpython.ipynb\" target=\"_parent\"><img src=\"https://colab.research.google.com/assets/colab-badge.svg\" alt=\"Open In Colab\"/></a>"
      ]
    },
    {
      "cell_type": "markdown",
      "source": [
        "### Basic Python Program"
      ],
      "metadata": {
        "id": "lb4uLvARj74v"
      }
    },
    {
      "cell_type": "markdown",
      "source": [],
      "metadata": {
        "id": "r6moiivGt3TV"
      }
    },
    {
      "cell_type": "markdown",
      "source": [
        " Write a python program to print variable.\n",
        "\n"
      ],
      "metadata": {
        "id": "eNXHiLRjjjMQ"
      }
    },
    {
      "cell_type": "code",
      "execution_count": null,
      "metadata": {
        "colab": {
          "base_uri": "https://localhost:8080/"
        },
        "id": "6ywpeDdqjesw",
        "outputId": "434c2a62-fc05-4faa-bc39-cd3492162632"
      },
      "outputs": [
        {
          "output_type": "stream",
          "name": "stdout",
          "text": [
            "Hello World\n"
          ]
        }
      ],
      "source": [
        "print(\"Hello World\")"
      ]
    },
    {
      "cell_type": "markdown",
      "source": [
        "Write add program"
      ],
      "metadata": {
        "id": "DikNa5B-oLRC"
      }
    },
    {
      "cell_type": "code",
      "source": [
        "print(1+4)"
      ],
      "metadata": {
        "colab": {
          "base_uri": "https://localhost:8080/"
        },
        "id": "Vuh6PUlRoRNT",
        "outputId": "1eea9509-6e19-43d3-a037-ae698b6c8105"
      },
      "execution_count": null,
      "outputs": [
        {
          "output_type": "stream",
          "name": "stdout",
          "text": [
            "5\n"
          ]
        }
      ]
    },
    {
      "cell_type": "markdown",
      "source": [
        "variables in python\n"
      ],
      "metadata": {
        "id": "ZdUHI4eZt-fU"
      }
    },
    {
      "cell_type": "code",
      "source": [
        "Bike = 100\n",
        "Car = 200\n",
        "Cycle = 300\n",
        "\n",
        "total = Bike+Car+Cycle\n",
        "print(\"Vechicles:\",Bike,Car,Cycle)\n",
        "print(total)"
      ],
      "metadata": {
        "colab": {
          "base_uri": "https://localhost:8080/"
        },
        "id": "xpMa5nuluLh7",
        "outputId": "78e75a36-d05c-4322-c7ce-491e8ad1ba28"
      },
      "execution_count": null,
      "outputs": [
        {
          "output_type": "stream",
          "name": "stdout",
          "text": [
            "Vechicles: 100 200 300\n",
            "600\n"
          ]
        }
      ]
    },
    {
      "cell_type": "markdown",
      "source": [
        "Subtracting two numbers?"
      ],
      "metadata": {
        "id": "ZtEDBLOBSF33"
      }
    },
    {
      "cell_type": "code",
      "source": [
        "apple= 200\n",
        "mango= 300\n",
        "print(\"apple price & mango price:\",apple-mango)"
      ],
      "metadata": {
        "colab": {
          "base_uri": "https://localhost:8080/"
        },
        "id": "S3mU-5yiSUYR",
        "outputId": "cd5f599a-759f-4330-bf24-b3ca6a879b7c"
      },
      "execution_count": 7,
      "outputs": [
        {
          "output_type": "stream",
          "name": "stdout",
          "text": [
            "apple price & mango price: -100\n"
          ]
        }
      ]
    },
    {
      "cell_type": "markdown",
      "source": [
        "Multiplying two numbers?"
      ],
      "metadata": {
        "id": "mz5TQXrxVIst"
      }
    },
    {
      "cell_type": "code",
      "source": [
        "pen=500\n",
        "pencil=600\n",
        "print(\"value of pen&pencil:\",pen*pencil)"
      ],
      "metadata": {
        "colab": {
          "base_uri": "https://localhost:8080/"
        },
        "id": "HKFMtVgzVOfv",
        "outputId": "d2bbf637-aca3-4efd-bdb5-0ceee2bb4bae"
      },
      "execution_count": 10,
      "outputs": [
        {
          "output_type": "stream",
          "name": "stdout",
          "text": [
            "value of pen&pencil: 300000\n"
          ]
        }
      ]
    },
    {
      "cell_type": "code",
      "source": [
        "*"
      ],
      "metadata": {
        "id": "GtTVFoBMVmxV"
      },
      "execution_count": 8,
      "outputs": []
    },
    {
      "cell_type": "markdown",
      "source": [
        "Divition & Remainder of two numbers?"
      ],
      "metadata": {
        "id": "nKEtTE5YWBmp"
      }
    },
    {
      "cell_type": "code",
      "source": [
        "tedy=1000\n",
        "panda=2000\n",
        "print(\"Divideing a tedy&panda:\",tedy/panda)\n",
        "print(\"Remainder value:\",tedy%panda)"
      ],
      "metadata": {
        "colab": {
          "base_uri": "https://localhost:8080/"
        },
        "id": "LvzeUlz2WLgI",
        "outputId": "aa7f7ced-21bf-40a9-af6a-f2b17f933f17"
      },
      "execution_count": 11,
      "outputs": [
        {
          "output_type": "stream",
          "name": "stdout",
          "text": [
            "Divideing a tedy&panda: 0.5\n",
            "Remainder value: 1000\n"
          ]
        }
      ]
    },
    {
      "cell_type": "markdown",
      "source": [
        "calculating multinumbers ?"
      ],
      "metadata": {
        "id": "0pMc0ifSW9jw"
      }
    },
    {
      "cell_type": "code",
      "source": [
        "a=10\n",
        "b=20\n",
        "c=30\n",
        "print((a+b)*c)\n",
        "print((a**b)/c)\n",
        "print((a%c)+c)\n",
        "print((c-b)%a)\n",
        "print((c/a)-b)"
      ],
      "metadata": {
        "colab": {
          "base_uri": "https://localhost:8080/"
        },
        "id": "D4Epa4RaXDWV",
        "outputId": "dde2cdf6-78d7-45fe-b4e0-d5d05b91b54d"
      },
      "execution_count": 17,
      "outputs": [
        {
          "output_type": "stream",
          "name": "stdout",
          "text": [
            "900\n",
            "3.3333333333333335e+18\n",
            "40\n",
            "0\n",
            "-17.0\n"
          ]
        }
      ]
    },
    {
      "cell_type": "code",
      "source": [],
      "metadata": {
        "id": "hX8A7p1tXcOi"
      },
      "execution_count": null,
      "outputs": []
    }
  ]
}