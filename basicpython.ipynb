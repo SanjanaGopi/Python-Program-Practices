{
  "nbformat": 4,
  "nbformat_minor": 0,
  "metadata": {
    "colab": {
      "provenance": [],
      "toc_visible": true,
      "authorship_tag": "ABX9TyPvaIX0Mx8tCT07WdeXTAXQ",
      "include_colab_link": true
    },
    "kernelspec": {
      "name": "python3",
      "display_name": "Python 3"
    },
    "language_info": {
      "name": "python"
    }
  },
  "cells": [
    {
      "cell_type": "markdown",
      "metadata": {
        "id": "view-in-github",
        "colab_type": "text"
      },
      "source": [
        "<a href=\"https://colab.research.google.com/github/SanjanaGopi/Python-Program-Practices/blob/main/basicpython.ipynb\" target=\"_parent\"><img src=\"https://colab.research.google.com/assets/colab-badge.svg\" alt=\"Open In Colab\"/></a>"
      ]
    },
    {
      "cell_type": "markdown",
      "source": [
        "### Basic Python Program"
      ],
      "metadata": {
        "id": "lb4uLvARj74v"
      }
    },
    {
      "cell_type": "markdown",
      "source": [],
      "metadata": {
        "id": "r6moiivGt3TV"
      }
    },
    {
      "cell_type": "markdown",
      "source": [
        " Write a python program to print variable.\n",
        "\n"
      ],
      "metadata": {
        "id": "eNXHiLRjjjMQ"
      }
    },
    {
      "cell_type": "code",
      "execution_count": null,
      "metadata": {
        "colab": {
          "base_uri": "https://localhost:8080/"
        },
        "id": "6ywpeDdqjesw",
        "outputId": "434c2a62-fc05-4faa-bc39-cd3492162632"
      },
      "outputs": [
        {
          "output_type": "stream",
          "name": "stdout",
          "text": [
            "Hello World\n"
          ]
        }
      ],
      "source": [
        "print(\"Hello World\")"
      ]
    },
    {
      "cell_type": "markdown",
      "source": [
        "Write add program"
      ],
      "metadata": {
        "id": "DikNa5B-oLRC"
      }
    },
    {
      "cell_type": "code",
      "source": [
        "print(1+4)"
      ],
      "metadata": {
        "colab": {
          "base_uri": "https://localhost:8080/"
        },
        "id": "Vuh6PUlRoRNT",
        "outputId": "1eea9509-6e19-43d3-a037-ae698b6c8105"
      },
      "execution_count": null,
      "outputs": [
        {
          "output_type": "stream",
          "name": "stdout",
          "text": [
            "5\n"
          ]
        }
      ]
    },
    {
      "cell_type": "markdown",
      "source": [
        "### Variables"
      ],
      "metadata": {
        "id": "B-NpsREEyplj"
      }
    },
    {
      "cell_type": "markdown",
      "source": [
        "variables in python\n"
      ],
      "metadata": {
        "id": "ZdUHI4eZt-fU"
      }
    },
    {
      "cell_type": "code",
      "source": [
        "Bike = 100\n",
        "Car = 200\n",
        "Cycle = 300\n",
        "\n",
        "total = Bike+Car+Cycle\n",
        "print(\"Vechicles:\",Bike,Car,Cycle)\n",
        "print(total)"
      ],
      "metadata": {
        "colab": {
          "base_uri": "https://localhost:8080/"
        },
        "id": "xpMa5nuluLh7",
        "outputId": "78e75a36-d05c-4322-c7ce-491e8ad1ba28"
      },
      "execution_count": null,
      "outputs": [
        {
          "output_type": "stream",
          "name": "stdout",
          "text": [
            "Vechicles: 100 200 300\n",
            "600\n"
          ]
        }
      ]
    },
    {
      "cell_type": "markdown",
      "source": [
        "### Numbers in python"
      ],
      "metadata": {
        "id": "scU6_yRhzEXI"
      }
    },
    {
      "cell_type": "markdown",
      "source": [
        "Subtracting two numbers?"
      ],
      "metadata": {
        "id": "ZtEDBLOBSF33"
      }
    },
    {
      "cell_type": "code",
      "source": [
        "apple= 200\n",
        "mango= 300\n",
        "print(\"apple price & mango price:\",apple-mango)"
      ],
      "metadata": {
        "colab": {
          "base_uri": "https://localhost:8080/"
        },
        "id": "S3mU-5yiSUYR",
        "outputId": "cd5f599a-759f-4330-bf24-b3ca6a879b7c"
      },
      "execution_count": null,
      "outputs": [
        {
          "output_type": "stream",
          "name": "stdout",
          "text": [
            "apple price & mango price: -100\n"
          ]
        }
      ]
    },
    {
      "cell_type": "markdown",
      "source": [
        "Multiplying two numbers?"
      ],
      "metadata": {
        "id": "mz5TQXrxVIst"
      }
    },
    {
      "cell_type": "code",
      "source": [
        "pen=500\n",
        "pencil=600\n",
        "print(\"value of pen&pencil:\",pen*pencil)"
      ],
      "metadata": {
        "colab": {
          "base_uri": "https://localhost:8080/"
        },
        "id": "HKFMtVgzVOfv",
        "outputId": "d2bbf637-aca3-4efd-bdb5-0ceee2bb4bae"
      },
      "execution_count": null,
      "outputs": [
        {
          "output_type": "stream",
          "name": "stdout",
          "text": [
            "value of pen&pencil: 300000\n"
          ]
        }
      ]
    },
    {
      "cell_type": "code",
      "source": [
        "*"
      ],
      "metadata": {
        "id": "GtTVFoBMVmxV"
      },
      "execution_count": null,
      "outputs": []
    },
    {
      "cell_type": "markdown",
      "source": [
        "Divition & Remainder of two numbers?"
      ],
      "metadata": {
        "id": "nKEtTE5YWBmp"
      }
    },
    {
      "cell_type": "code",
      "source": [
        "tedy=1000\n",
        "panda=2000\n",
        "print(\"Divideing a tedy&panda:\",tedy/panda)\n",
        "print(\"Remainder value:\",tedy%panda)"
      ],
      "metadata": {
        "colab": {
          "base_uri": "https://localhost:8080/"
        },
        "id": "LvzeUlz2WLgI",
        "outputId": "aa7f7ced-21bf-40a9-af6a-f2b17f933f17"
      },
      "execution_count": null,
      "outputs": [
        {
          "output_type": "stream",
          "name": "stdout",
          "text": [
            "Divideing a tedy&panda: 0.5\n",
            "Remainder value: 1000\n"
          ]
        }
      ]
    },
    {
      "cell_type": "markdown",
      "source": [
        "calculating multinumbers ?"
      ],
      "metadata": {
        "id": "0pMc0ifSW9jw"
      }
    },
    {
      "cell_type": "code",
      "source": [
        "a=10\n",
        "b=20\n",
        "c=30\n",
        "print((a+b)*c)\n",
        "print((a**b)/c)\n",
        "print((a%c)+c)\n",
        "print((c-b)%a)\n",
        "print((c/a)-b)"
      ],
      "metadata": {
        "colab": {
          "base_uri": "https://localhost:8080/"
        },
        "id": "D4Epa4RaXDWV",
        "outputId": "dde2cdf6-78d7-45fe-b4e0-d5d05b91b54d"
      },
      "execution_count": null,
      "outputs": [
        {
          "output_type": "stream",
          "name": "stdout",
          "text": [
            "900\n",
            "3.3333333333333335e+18\n",
            "40\n",
            "0\n",
            "-17.0\n"
          ]
        }
      ]
    },
    {
      "cell_type": "markdown",
      "source": [
        "### Strings in python"
      ],
      "metadata": {
        "id": "3pm-xIV52gC2"
      }
    },
    {
      "cell_type": "markdown",
      "source": [
        "strig slicig ?"
      ],
      "metadata": {
        "id": "8HXWfqdJ2qFY"
      }
    },
    {
      "cell_type": "code",
      "source": [
        "text=\"water bottle\"\n",
        "print(text)\n",
        "text[3]\n",
        "text[0:5]\n",
        "text[5:]\n"
      ],
      "metadata": {
        "id": "hX8A7p1tXcOi",
        "colab": {
          "base_uri": "https://localhost:8080/",
          "height": 52
        },
        "outputId": "1af48ab5-5bf0-4e7c-b9bb-384ad40d5a56"
      },
      "execution_count": 2,
      "outputs": [
        {
          "output_type": "stream",
          "name": "stdout",
          "text": [
            "water bottle\n"
          ]
        },
        {
          "output_type": "execute_result",
          "data": {
            "text/plain": [
              "' bottle'"
            ],
            "application/vnd.google.colaboratory.intrinsic+json": {
              "type": "string"
            }
          },
          "metadata": {},
          "execution_count": 2
        }
      ]
    },
    {
      "cell_type": "markdown",
      "source": [
        "Multiline strig using tripple quotes(''')?"
      ],
      "metadata": {
        "id": "T3Z5zoNN31V1"
      }
    },
    {
      "cell_type": "code",
      "source": [
        "text1='hello \"madam\"'\n",
        "text2=\"let's learn language\"\n",
        "text3='''java\n",
        "python\n",
        "c++'''\n",
        "print(text1)\n",
        "print(text2)\n",
        "print(text3)"
      ],
      "metadata": {
        "colab": {
          "base_uri": "https://localhost:8080/"
        },
        "id": "s6SYefbF4CD7",
        "outputId": "bd71ccc7-0510-491d-b904-d55a9403c08e"
      },
      "execution_count": 4,
      "outputs": [
        {
          "output_type": "stream",
          "name": "stdout",
          "text": [
            "hello \"madam\"\n",
            "let's learn language\n",
            "java \n",
            "python\n",
            "c++\n"
          ]
        }
      ]
    },
    {
      "cell_type": "markdown",
      "source": [
        "characters of n and \\t"
      ],
      "metadata": {
        "id": "PU6FD9JO6Lio"
      }
    },
    {
      "cell_type": "code",
      "source": [
        "text='java\\npython\\nc++'\n",
        "print(text)"
      ],
      "metadata": {
        "colab": {
          "base_uri": "https://localhost:8080/"
        },
        "id": "Mb8djXOv6Us3",
        "outputId": "977722e0-3ce7-4bdb-e134-13b57acd1fc0"
      },
      "execution_count": 5,
      "outputs": [
        {
          "output_type": "stream",
          "name": "stdout",
          "text": [
            "java\n",
            "python\n",
            "c++\n"
          ]
        }
      ]
    },
    {
      "cell_type": "markdown",
      "source": [
        "Operator to join two strings?"
      ],
      "metadata": {
        "id": "--CcRwPE7OSG"
      }
    },
    {
      "cell_type": "code",
      "source": [
        "a1=\"programming\"\n",
        "a2=\"language\"\n",
        "print(a1+a2)\n",
        "a1+' '+a2"
      ],
      "metadata": {
        "colab": {
          "base_uri": "https://localhost:8080/",
          "height": 52
        },
        "id": "XGe9fNPi7UUQ",
        "outputId": "6081ca88-a7d3-455e-b1cb-2e91cadca2e2"
      },
      "execution_count": 11,
      "outputs": [
        {
          "output_type": "stream",
          "name": "stdout",
          "text": [
            "programminglanguage\n"
          ]
        },
        {
          "output_type": "execute_result",
          "data": {
            "text/plain": [
              "'programming language'"
            ],
            "application/vnd.google.colaboratory.intrinsic+json": {
              "type": "string"
            }
          },
          "metadata": {},
          "execution_count": 11
        }
      ]
    },
    {
      "cell_type": "markdown",
      "source": [
        "Function of str()?"
      ],
      "metadata": {
        "id": "uDX0zVWb8aMB"
      }
    },
    {
      "cell_type": "code",
      "source": [
        "s=\"Total states\"\n",
        "num=32\n",
        "s+' '+str(num)"
      ],
      "metadata": {
        "colab": {
          "base_uri": "https://localhost:8080/",
          "height": 35
        },
        "id": "c21Tw7u69Ofo",
        "outputId": "acce6dfa-ee32-473a-b3ab-d68bd6c82a78"
      },
      "execution_count": 13,
      "outputs": [
        {
          "output_type": "execute_result",
          "data": {
            "text/plain": [
              "'Total states 32'"
            ],
            "application/vnd.google.colaboratory.intrinsic+json": {
              "type": "string"
            }
          },
          "metadata": {},
          "execution_count": 13
        }
      ]
    }
  ]
}