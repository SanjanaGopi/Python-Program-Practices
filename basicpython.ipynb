{
  "nbformat": 4,
  "nbformat_minor": 0,
  "metadata": {
    "colab": {
      "provenance": [],
      "toc_visible": true,
      "authorship_tag": "ABX9TyMQIqAYIINRj9PgQ3j7BYpl",
      "include_colab_link": true
    },
    "kernelspec": {
      "name": "python3",
      "display_name": "Python 3"
    },
    "language_info": {
      "name": "python"
    }
  },
  "cells": [
    {
      "cell_type": "markdown",
      "metadata": {
        "id": "view-in-github",
        "colab_type": "text"
      },
      "source": [
        "<a href=\"https://colab.research.google.com/github/SanjanaGopi/Python-Program-Practices/blob/main/basicpython.ipynb\" target=\"_parent\"><img src=\"https://colab.research.google.com/assets/colab-badge.svg\" alt=\"Open In Colab\"/></a>"
      ]
    },
    {
      "cell_type": "markdown",
      "source": [
        "### Basic Python Program"
      ],
      "metadata": {
        "id": "lb4uLvARj74v"
      }
    },
    {
      "cell_type": "markdown",
      "source": [],
      "metadata": {
        "id": "r6moiivGt3TV"
      }
    },
    {
      "cell_type": "markdown",
      "source": [
        " Write a python program to print variable.\n",
        "\n"
      ],
      "metadata": {
        "id": "eNXHiLRjjjMQ"
      }
    },
    {
      "cell_type": "code",
      "execution_count": null,
      "metadata": {
        "colab": {
          "base_uri": "https://localhost:8080/"
        },
        "id": "6ywpeDdqjesw",
        "outputId": "434c2a62-fc05-4faa-bc39-cd3492162632"
      },
      "outputs": [
        {
          "output_type": "stream",
          "name": "stdout",
          "text": [
            "Hello World\n"
          ]
        }
      ],
      "source": [
        "print(\"Hello World\")"
      ]
    },
    {
      "cell_type": "markdown",
      "source": [
        "Write add program"
      ],
      "metadata": {
        "id": "DikNa5B-oLRC"
      }
    },
    {
      "cell_type": "code",
      "source": [
        "print(1+4)"
      ],
      "metadata": {
        "colab": {
          "base_uri": "https://localhost:8080/"
        },
        "id": "Vuh6PUlRoRNT",
        "outputId": "1eea9509-6e19-43d3-a037-ae698b6c8105"
      },
      "execution_count": null,
      "outputs": [
        {
          "output_type": "stream",
          "name": "stdout",
          "text": [
            "5\n"
          ]
        }
      ]
    },
    {
      "cell_type": "markdown",
      "source": [
        "### Variables"
      ],
      "metadata": {
        "id": "B-NpsREEyplj"
      }
    },
    {
      "cell_type": "markdown",
      "source": [
        "variables in python\n"
      ],
      "metadata": {
        "id": "ZdUHI4eZt-fU"
      }
    },
    {
      "cell_type": "code",
      "source": [
        "Bike = 100\n",
        "Car = 200\n",
        "Cycle = 300\n",
        "\n",
        "total = Bike+Car+Cycle\n",
        "print(\"Vechicles:\",Bike,Car,Cycle)\n",
        "print(total)"
      ],
      "metadata": {
        "colab": {
          "base_uri": "https://localhost:8080/"
        },
        "id": "xpMa5nuluLh7",
        "outputId": "78e75a36-d05c-4322-c7ce-491e8ad1ba28"
      },
      "execution_count": null,
      "outputs": [
        {
          "output_type": "stream",
          "name": "stdout",
          "text": [
            "Vechicles: 100 200 300\n",
            "600\n"
          ]
        }
      ]
    },
    {
      "cell_type": "markdown",
      "source": [
        "### Numbers in python"
      ],
      "metadata": {
        "id": "scU6_yRhzEXI"
      }
    },
    {
      "cell_type": "markdown",
      "source": [
        "Subtracting two numbers?"
      ],
      "metadata": {
        "id": "ZtEDBLOBSF33"
      }
    },
    {
      "cell_type": "code",
      "source": [
        "apple= 200\n",
        "mango= 300\n",
        "print(\"apple price & mango price:\",apple-mango)"
      ],
      "metadata": {
        "colab": {
          "base_uri": "https://localhost:8080/"
        },
        "id": "S3mU-5yiSUYR",
        "outputId": "cd5f599a-759f-4330-bf24-b3ca6a879b7c"
      },
      "execution_count": null,
      "outputs": [
        {
          "output_type": "stream",
          "name": "stdout",
          "text": [
            "apple price & mango price: -100\n"
          ]
        }
      ]
    },
    {
      "cell_type": "markdown",
      "source": [
        "Multiplying two numbers?"
      ],
      "metadata": {
        "id": "mz5TQXrxVIst"
      }
    },
    {
      "cell_type": "code",
      "source": [
        "pen=500\n",
        "pencil=600\n",
        "print(\"value of pen&pencil:\",pen*pencil)"
      ],
      "metadata": {
        "colab": {
          "base_uri": "https://localhost:8080/"
        },
        "id": "HKFMtVgzVOfv",
        "outputId": "d2bbf637-aca3-4efd-bdb5-0ceee2bb4bae"
      },
      "execution_count": null,
      "outputs": [
        {
          "output_type": "stream",
          "name": "stdout",
          "text": [
            "value of pen&pencil: 300000\n"
          ]
        }
      ]
    },
    {
      "cell_type": "code",
      "source": [
        "*"
      ],
      "metadata": {
        "id": "GtTVFoBMVmxV"
      },
      "execution_count": null,
      "outputs": []
    },
    {
      "cell_type": "markdown",
      "source": [
        "Divition & Remainder of two numbers?"
      ],
      "metadata": {
        "id": "nKEtTE5YWBmp"
      }
    },
    {
      "cell_type": "code",
      "source": [
        "tedy=1000\n",
        "panda=2000\n",
        "print(\"Divideing a tedy&panda:\",tedy/panda)\n",
        "print(\"Remainder value:\",tedy%panda)"
      ],
      "metadata": {
        "colab": {
          "base_uri": "https://localhost:8080/"
        },
        "id": "LvzeUlz2WLgI",
        "outputId": "aa7f7ced-21bf-40a9-af6a-f2b17f933f17"
      },
      "execution_count": null,
      "outputs": [
        {
          "output_type": "stream",
          "name": "stdout",
          "text": [
            "Divideing a tedy&panda: 0.5\n",
            "Remainder value: 1000\n"
          ]
        }
      ]
    },
    {
      "cell_type": "markdown",
      "source": [
        "calculating multinumbers ?"
      ],
      "metadata": {
        "id": "0pMc0ifSW9jw"
      }
    },
    {
      "cell_type": "code",
      "source": [
        "a=10\n",
        "b=20\n",
        "c=30\n",
        "print((a+b)*c)\n",
        "print((a**b)/c)\n",
        "print((a%c)+c)\n",
        "print((c-b)%a)\n",
        "print((c/a)-b)"
      ],
      "metadata": {
        "colab": {
          "base_uri": "https://localhost:8080/"
        },
        "id": "D4Epa4RaXDWV",
        "outputId": "dde2cdf6-78d7-45fe-b4e0-d5d05b91b54d"
      },
      "execution_count": null,
      "outputs": [
        {
          "output_type": "stream",
          "name": "stdout",
          "text": [
            "900\n",
            "3.3333333333333335e+18\n",
            "40\n",
            "0\n",
            "-17.0\n"
          ]
        }
      ]
    },
    {
      "cell_type": "markdown",
      "source": [
        "### Strings in python"
      ],
      "metadata": {
        "id": "3pm-xIV52gC2"
      }
    },
    {
      "cell_type": "markdown",
      "source": [
        "strig slicig ?"
      ],
      "metadata": {
        "id": "8HXWfqdJ2qFY"
      }
    },
    {
      "cell_type": "code",
      "source": [
        "text=\"water bottle\"\n",
        "print(text)\n",
        "text[3]\n",
        "text[0:5]\n",
        "text[5:]\n"
      ],
      "metadata": {
        "id": "hX8A7p1tXcOi",
        "colab": {
          "base_uri": "https://localhost:8080/",
          "height": 52
        },
        "outputId": "1af48ab5-5bf0-4e7c-b9bb-384ad40d5a56"
      },
      "execution_count": null,
      "outputs": [
        {
          "output_type": "stream",
          "name": "stdout",
          "text": [
            "water bottle\n"
          ]
        },
        {
          "output_type": "execute_result",
          "data": {
            "text/plain": [
              "' bottle'"
            ],
            "application/vnd.google.colaboratory.intrinsic+json": {
              "type": "string"
            }
          },
          "metadata": {},
          "execution_count": 2
        }
      ]
    },
    {
      "cell_type": "markdown",
      "source": [
        "Multiline strig using tripple quotes(''')?"
      ],
      "metadata": {
        "id": "T3Z5zoNN31V1"
      }
    },
    {
      "cell_type": "code",
      "source": [
        "text1='hello \"madam\"'\n",
        "text2=\"let's learn language\"\n",
        "text3='''java\n",
        "python\n",
        "c++'''\n",
        "print(text1)\n",
        "print(text2)\n",
        "print(text3)"
      ],
      "metadata": {
        "colab": {
          "base_uri": "https://localhost:8080/"
        },
        "id": "s6SYefbF4CD7",
        "outputId": "bd71ccc7-0510-491d-b904-d55a9403c08e"
      },
      "execution_count": null,
      "outputs": [
        {
          "output_type": "stream",
          "name": "stdout",
          "text": [
            "hello \"madam\"\n",
            "let's learn language\n",
            "java \n",
            "python\n",
            "c++\n"
          ]
        }
      ]
    },
    {
      "cell_type": "markdown",
      "source": [
        "characters of n and \\t"
      ],
      "metadata": {
        "id": "PU6FD9JO6Lio"
      }
    },
    {
      "cell_type": "code",
      "source": [
        "text='java\\npython\\nc++'\n",
        "print(text)"
      ],
      "metadata": {
        "colab": {
          "base_uri": "https://localhost:8080/"
        },
        "id": "Mb8djXOv6Us3",
        "outputId": "977722e0-3ce7-4bdb-e134-13b57acd1fc0"
      },
      "execution_count": null,
      "outputs": [
        {
          "output_type": "stream",
          "name": "stdout",
          "text": [
            "java\n",
            "python\n",
            "c++\n"
          ]
        }
      ]
    },
    {
      "cell_type": "markdown",
      "source": [
        "Operator to join two strings?"
      ],
      "metadata": {
        "id": "--CcRwPE7OSG"
      }
    },
    {
      "cell_type": "code",
      "source": [
        "a1=\"programming\"\n",
        "a2=\"language\"\n",
        "print(a1+a2)\n",
        "a1+' '+a2"
      ],
      "metadata": {
        "colab": {
          "base_uri": "https://localhost:8080/",
          "height": 52
        },
        "id": "XGe9fNPi7UUQ",
        "outputId": "6081ca88-a7d3-455e-b1cb-2e91cadca2e2"
      },
      "execution_count": null,
      "outputs": [
        {
          "output_type": "stream",
          "name": "stdout",
          "text": [
            "programminglanguage\n"
          ]
        },
        {
          "output_type": "execute_result",
          "data": {
            "text/plain": [
              "'programming language'"
            ],
            "application/vnd.google.colaboratory.intrinsic+json": {
              "type": "string"
            }
          },
          "metadata": {},
          "execution_count": 11
        }
      ]
    },
    {
      "cell_type": "markdown",
      "source": [
        "Function of str()?"
      ],
      "metadata": {
        "id": "uDX0zVWb8aMB"
      }
    },
    {
      "cell_type": "code",
      "source": [
        "s=\"Total states\"\n",
        "num=32\n",
        "s+' '+str(num)"
      ],
      "metadata": {
        "colab": {
          "base_uri": "https://localhost:8080/",
          "height": 35
        },
        "id": "c21Tw7u69Ofo",
        "outputId": "acce6dfa-ee32-473a-b3ab-d68bd6c82a78"
      },
      "execution_count": null,
      "outputs": [
        {
          "output_type": "execute_result",
          "data": {
            "text/plain": [
              "'Total states 32'"
            ],
            "application/vnd.google.colaboratory.intrinsic+json": {
              "type": "string"
            }
          },
          "metadata": {},
          "execution_count": 13
        }
      ]
    },
    {
      "cell_type": "markdown",
      "source": [
        "### List in python"
      ],
      "metadata": {
        "id": "2cbs7dYhAuB_"
      }
    },
    {
      "cell_type": "markdown",
      "source": [
        "Create list in variable?"
      ],
      "metadata": {
        "id": "kHHQjeCEB0G1"
      }
    },
    {
      "cell_type": "code",
      "source": [
        "items=[\"banana\",\"apple\",\"mango\",\"orange\"]\n",
        "items"
      ],
      "metadata": {
        "colab": {
          "base_uri": "https://localhost:8080/"
        },
        "id": "B8MrHiGHB9e1",
        "outputId": "6aedb35f-8324-4658-9c2f-0fa52aa5dbad"
      },
      "execution_count": null,
      "outputs": [
        {
          "output_type": "execute_result",
          "data": {
            "text/plain": [
              "['banana', 'apple', 'mango', 'orange']"
            ]
          },
          "metadata": {},
          "execution_count": 16
        }
      ]
    },
    {
      "cell_type": "markdown",
      "source": [
        "List are stored in computer memory?"
      ],
      "metadata": {
        "id": "PeCINwcVCytm"
      }
    },
    {
      "cell_type": "code",
      "source": [
        "items=[\"banana\",\"apple\",\"mango\",\"orange\"]\n",
        "items[2]\n"
      ],
      "metadata": {
        "colab": {
          "base_uri": "https://localhost:8080/",
          "height": 35
        },
        "id": "qik3TwhdC8tR",
        "outputId": "4d30f6aa-a617-4526-a387-c13d13f108ea"
      },
      "execution_count": null,
      "outputs": [
        {
          "output_type": "execute_result",
          "data": {
            "text/plain": [
              "'mango'"
            ],
            "application/vnd.google.colaboratory.intrinsic+json": {
              "type": "string"
            }
          },
          "metadata": {},
          "execution_count": 17
        }
      ]
    },
    {
      "cell_type": "code",
      "source": [
        "items=[\"banana\",\"apple\",\"mango\",\"orange\"]\n",
        "items[2]=\"draganfruite\"\n",
        "items"
      ],
      "metadata": {
        "colab": {
          "base_uri": "https://localhost:8080/"
        },
        "id": "dFioecviDQCg",
        "outputId": "b599f7ef-884f-4c5b-ad09-3ab3f27dbd8e"
      },
      "execution_count": null,
      "outputs": [
        {
          "output_type": "execute_result",
          "data": {
            "text/plain": [
              "['banana', 'apple', 'draganfruite', 'orange']"
            ]
          },
          "metadata": {},
          "execution_count": 20
        }
      ]
    },
    {
      "cell_type": "markdown",
      "source": [
        "Access a rannge of elements ?"
      ],
      "metadata": {
        "id": "pIuUcxqnERM1"
      }
    },
    {
      "cell_type": "code",
      "source": [
        "items=[\"banana\",\"apple\",\"mango\",\"orange\"]\n",
        "items[0:3]"
      ],
      "metadata": {
        "colab": {
          "base_uri": "https://localhost:8080/"
        },
        "id": "2O3z6Kq9EXtv",
        "outputId": "30a53528-5c86-4b29-a64e-fb8bfb2d8af8"
      },
      "execution_count": null,
      "outputs": [
        {
          "output_type": "execute_result",
          "data": {
            "text/plain": [
              "['banana', 'apple', 'mango']"
            ]
          },
          "metadata": {},
          "execution_count": 22
        }
      ]
    },
    {
      "cell_type": "code",
      "source": [
        "items=[\"banana\",\"apple\",\"mango\",\"orange\"]\n",
        "items[-1]"
      ],
      "metadata": {
        "colab": {
          "base_uri": "https://localhost:8080/",
          "height": 35
        },
        "id": "ghlXEVJ2E7oN",
        "outputId": "fd0fd408-dcf3-42b5-8adf-cc639cf67d44"
      },
      "execution_count": null,
      "outputs": [
        {
          "output_type": "execute_result",
          "data": {
            "text/plain": [
              "'orange'"
            ],
            "application/vnd.google.colaboratory.intrinsic+json": {
              "type": "string"
            }
          },
          "metadata": {},
          "execution_count": 23
        }
      ]
    },
    {
      "cell_type": "markdown",
      "source": [
        "Using a append methon ?"
      ],
      "metadata": {
        "id": "dEaMWJxiEtcm"
      }
    },
    {
      "cell_type": "code",
      "source": [
        "items=[\"banana\",\"apple\",\"mango\",\"orange\"]\n",
        "items.append(\"draganfruite\")\n",
        "items"
      ],
      "metadata": {
        "colab": {
          "base_uri": "https://localhost:8080/"
        },
        "id": "GaQNeGp5E2S9",
        "outputId": "9372edd5-2673-42dc-dd81-9d075ac6ca4e"
      },
      "execution_count": null,
      "outputs": [
        {
          "output_type": "execute_result",
          "data": {
            "text/plain": [
              "['banana', 'apple', 'mango', 'orange', 'draganfruite']"
            ]
          },
          "metadata": {},
          "execution_count": 26
        }
      ]
    },
    {
      "cell_type": "markdown",
      "source": [
        "join two list ?"
      ],
      "metadata": {
        "id": "X-hBF2OZFo1N"
      }
    },
    {
      "cell_type": "code",
      "source": [
        "items=[\"banana\",\"apple\",\"mango\",\"orange\"]\n",
        "items.insert(2,\"draganfruite\")\n",
        "items"
      ],
      "metadata": {
        "colab": {
          "base_uri": "https://localhost:8080/"
        },
        "id": "3TUgDt5wFtx_",
        "outputId": "91123998-94ce-498d-ef06-3d7a385dac1f"
      },
      "execution_count": null,
      "outputs": [
        {
          "output_type": "execute_result",
          "data": {
            "text/plain": [
              "['banana', 'apple', 'draganfruite', 'mango', 'orange']"
            ]
          },
          "metadata": {},
          "execution_count": 27
        }
      ]
    },
    {
      "cell_type": "markdown",
      "source": [
        "List concatenation ?"
      ],
      "metadata": {
        "id": "hgPFDMl8GUAK"
      }
    },
    {
      "cell_type": "code",
      "source": [
        "fruites=[\"banana\",\"apple\",\"mango\",\"orange\"]\n",
        "vegetables=[\"tomato,potato\"]\n",
        "items=fruites+vegetables\n",
        "items"
      ],
      "metadata": {
        "colab": {
          "base_uri": "https://localhost:8080/"
        },
        "id": "CXzkZMx2GdRg",
        "outputId": "6d5ad088-0295-4cc7-c99d-60ffc9d3a607"
      },
      "execution_count": null,
      "outputs": [
        {
          "output_type": "execute_result",
          "data": {
            "text/plain": [
              "['banana', 'apple', 'mango', 'orange', 'tomato,potato']"
            ]
          },
          "metadata": {},
          "execution_count": 29
        }
      ]
    },
    {
      "cell_type": "markdown",
      "source": [
        "Function of len()"
      ],
      "metadata": {
        "id": "BnGr41yUHE3p"
      }
    },
    {
      "cell_type": "code",
      "source": [
        "items=[\"banana\",\"apple\",\"mango\",\"orange\"]\n",
        "len(items)"
      ],
      "metadata": {
        "colab": {
          "base_uri": "https://localhost:8080/"
        },
        "id": "h6pCLcTNG37t",
        "outputId": "d00e1dc8-365f-40ac-d495-4d2e281f06c8"
      },
      "execution_count": null,
      "outputs": [
        {
          "output_type": "execute_result",
          "data": {
            "text/plain": [
              "4"
            ]
          },
          "metadata": {},
          "execution_count": 30
        }
      ]
    },
    {
      "cell_type": "markdown",
      "source": [
        "'in' operation"
      ],
      "metadata": {
        "id": "BTLtNLt2HYSQ"
      }
    },
    {
      "cell_type": "code",
      "source": [
        "items=[\"banana\",\"apple\",\"mango\",\"orange\"]\n",
        "\"apple\" in items"
      ],
      "metadata": {
        "colab": {
          "base_uri": "https://localhost:8080/"
        },
        "id": "bKZVKMteHgcs",
        "outputId": "47c9be93-cbc2-4376-84f0-f3e1f396b1df"
      },
      "execution_count": null,
      "outputs": [
        {
          "output_type": "execute_result",
          "data": {
            "text/plain": [
              "True"
            ]
          },
          "metadata": {},
          "execution_count": 31
        }
      ]
    },
    {
      "cell_type": "code",
      "source": [
        "items=[\"banana\",\"apple\",\"mango\",\"orange\"]\n",
        "\"dragafruite\" in items"
      ],
      "metadata": {
        "colab": {
          "base_uri": "https://localhost:8080/"
        },
        "id": "HQXVy78gHzl_",
        "outputId": "6eeef057-c463-4eec-9c45-a277ddb7d234"
      },
      "execution_count": null,
      "outputs": [
        {
          "output_type": "execute_result",
          "data": {
            "text/plain": [
              "False"
            ]
          },
          "metadata": {},
          "execution_count": 32
        }
      ]
    },
    {
      "cell_type": "markdown",
      "source": [
        "### if statement"
      ],
      "metadata": {
        "id": "tMS6BxZ_JwPT"
      }
    },
    {
      "cell_type": "markdown",
      "source": [
        "Write a program that asks user to enter a number,program should tell if number is odd or even?"
      ],
      "metadata": {
        "id": "4aQSJlQHKEJX"
      }
    },
    {
      "cell_type": "code",
      "source": [
        "num=input(\"Enter a number:\")\n",
        "num=int(num)\n",
        "if num%2==0:\n",
        "  print(\"number is even\")\n",
        "else:\n",
        "  print(\"number is odd\")"
      ],
      "metadata": {
        "colab": {
          "base_uri": "https://localhost:8080/"
        },
        "id": "NvI-bGbHKeoA",
        "outputId": "d4cafd98-77c0-4c46-8e9d-954cf8b52e19"
      },
      "execution_count": null,
      "outputs": [
        {
          "output_type": "stream",
          "name": "stdout",
          "text": [
            "Enter a number:6\n",
            "number is even\n"
          ]
        }
      ]
    },
    {
      "cell_type": "markdown",
      "source": [
        "Write a program that ask a studets,which house colour for which day?"
      ],
      "metadata": {
        "id": "vcYpcBg7SSby"
      }
    },
    {
      "cell_type": "code",
      "source": [
        "Monday=[\"green\"]\n",
        "Tuesday=[\"yellow\"]\n",
        "Wednesday=[\"blue\"]\n",
        "Thursday=[\"orange\"]\n",
        "Friday=[\"pink\"]\n",
        "Saturday=[\"white\"]\n",
        "colour=input(\"Enter a colour:\")\n",
        "if colour in Monday:\n",
        "  print(\"Monday\")\n",
        "elif colour in Tuesday:\n",
        "  print(\"Tuesday\")\n",
        "elif colour in Wednesday:\n",
        "  print(\"Wednesday\")\n",
        "elif colour in Thursday:\n",
        "  print(\"Thursday\")\n",
        "elif colour in Friday:\n",
        "  print(\"Friday\")\n",
        "elif colour in Saturday:\n",
        "  print(\"Saturday\")\n",
        "else:\n",
        "  print(\"our schools not included this type of housecolour\",colour)\n"
      ],
      "metadata": {
        "colab": {
          "base_uri": "https://localhost:8080/"
        },
        "id": "uVaKE9UOTzjm",
        "outputId": "8dc6a3c8-05d6-4335-ecb7-1d0ad73b8756"
      },
      "execution_count": null,
      "outputs": [
        {
          "output_type": "stream",
          "name": "stdout",
          "text": [
            "Enter a colour:black\n",
            "our schools not included this type of housecolour black\n"
          ]
        }
      ]
    },
    {
      "cell_type": "markdown",
      "source": [
        "### For loop"
      ],
      "metadata": {
        "id": "5tEkl803JxvA"
      }
    },
    {
      "cell_type": "markdown",
      "source": [
        "Store monthly expeses i a list and find out total expenses for all months?"
      ],
      "metadata": {
        "id": "tqER8iZ0tr3O"
      }
    },
    {
      "cell_type": "code",
      "source": [
        "exp=[1000,2000,3000,4000,5000]\n",
        "total=0\n",
        "for items in exp:\n",
        "  exp=total+items\n",
        "print(exp)"
      ],
      "metadata": {
        "colab": {
          "base_uri": "https://localhost:8080/"
        },
        "id": "aB0BOacNyx3h",
        "outputId": "d98245c9-d0a9-4316-e1ee-f7335f2e3892"
      },
      "execution_count": null,
      "outputs": [
        {
          "output_type": "stream",
          "name": "stdout",
          "text": [
            "5000\n"
          ]
        }
      ]
    },
    {
      "cell_type": "markdown",
      "source": [
        "Range fuction"
      ],
      "metadata": {
        "id": "vth69Lwd1d_4"
      }
    },
    {
      "cell_type": "markdown",
      "source": [
        "print a number 1 to 20 /with squres ?"
      ],
      "metadata": {
        "id": "0_sSF3rJ2A9d"
      }
    },
    {
      "cell_type": "code",
      "source": [
        "for i in range(1,21):\n",
        "  print(i)"
      ],
      "metadata": {
        "colab": {
          "base_uri": "https://localhost:8080/"
        },
        "id": "pMyYS9Tlz9Zv",
        "outputId": "f8d5af31-da03-4b9c-ddbb-76ff2dd47f4c"
      },
      "execution_count": null,
      "outputs": [
        {
          "output_type": "stream",
          "name": "stdout",
          "text": [
            "1\n",
            "2\n",
            "3\n",
            "4\n",
            "5\n",
            "6\n",
            "7\n",
            "8\n",
            "9\n",
            "10\n",
            "11\n",
            "12\n",
            "13\n",
            "14\n",
            "15\n",
            "16\n",
            "17\n",
            "18\n",
            "19\n",
            "20\n"
          ]
        }
      ]
    },
    {
      "cell_type": "code",
      "source": [
        "for i in range(1,21):\n",
        "  print(i*i)"
      ],
      "metadata": {
        "colab": {
          "base_uri": "https://localhost:8080/"
        },
        "id": "DOMdeFfb2iof",
        "outputId": "9b5ced0a-aa9c-4c40-b2bc-d2ed250ca97c"
      },
      "execution_count": null,
      "outputs": [
        {
          "output_type": "stream",
          "name": "stdout",
          "text": [
            "1\n",
            "4\n",
            "9\n",
            "16\n",
            "25\n",
            "36\n",
            "49\n",
            "64\n",
            "81\n",
            "100\n",
            "121\n",
            "144\n",
            "169\n",
            "196\n",
            "225\n",
            "256\n",
            "289\n",
            "324\n",
            "361\n",
            "400\n"
          ]
        }
      ]
    },
    {
      "cell_type": "markdown",
      "source": [
        "Using len()&rage functio"
      ],
      "metadata": {
        "id": "LVd80-Yc2uRI"
      }
    },
    {
      "cell_type": "markdown",
      "source": [
        "In our monthly expense example,print month number and expense and then in the end print total expense?"
      ],
      "metadata": {
        "id": "5erHg6Cz25O0"
      }
    },
    {
      "cell_type": "code",
      "source": [
        "exp=[1000,2000,3000,4000,5000]\n",
        "total=0\n",
        "for i in range(0,len(exp),2):\n",
        "  print(\"Monthly expense:\",(i+1),\"expenses:\",(i))\n",
        "  total=total+exp[i]\n",
        "  print(\"Total expenses:\",total)"
      ],
      "metadata": {
        "colab": {
          "base_uri": "https://localhost:8080/"
        },
        "id": "SLxKzlBu4kNo",
        "outputId": "7f0dc2ad-a066-4a9d-ea37-12cf9bba263f"
      },
      "execution_count": null,
      "outputs": [
        {
          "output_type": "stream",
          "name": "stdout",
          "text": [
            "Monthly expense: 1 expenses: 0\n",
            "Total expenses: 1000\n",
            "Monthly expense: 3 expenses: 2\n",
            "Total expenses: 4000\n",
            "Monthly expense: 5 expenses: 4\n",
            "Total expenses: 9000\n"
          ]
        }
      ]
    },
    {
      "cell_type": "markdown",
      "source": [
        "### Fuction Type"
      ],
      "metadata": {
        "id": "ZAlMypkYRJ1j"
      }
    },
    {
      "cell_type": "markdown",
      "source": [
        "You are given two lists of numbers and you need to find total of each of these list?"
      ],
      "metadata": {
        "id": "cysdkr-oRdG4"
      }
    },
    {
      "cell_type": "code",
      "source": [
        "def calculate_total(exp):\n",
        "  total=0\n",
        "  for items in exp:\n",
        "    total=total + items\n",
        "  return total\n",
        "sanjana_exp_list=[3000,2000,6000]\n",
        "niranjan_exp_list=[5000,600,700]\n",
        "sanjana_total=calculate_total(sanjana_exp_list)\n",
        "niranjan_total=calculate_total(niranjan_exp_list)\n",
        "\n",
        "print(\"sanjana's total expenses\",sanjana_total)\n",
        "print(\"Niranja's total expenses\",niranjan_total)\n",
        "\n",
        "\n"
      ],
      "metadata": {
        "colab": {
          "base_uri": "https://localhost:8080/"
        },
        "id": "xZ9OhqQDRUDW",
        "outputId": "b3352891-1941-42a4-a700-c72da0958356"
      },
      "execution_count": null,
      "outputs": [
        {
          "output_type": "stream",
          "name": "stdout",
          "text": [
            "sanjana's total expenses 11000\n",
            "Niranja's total expenses 6300\n"
          ]
        }
      ]
    },
    {
      "cell_type": "markdown",
      "source": [
        "Program used to check the number is postive or negative?"
      ],
      "metadata": {
        "id": "DEtbLfELmm1t"
      }
    },
    {
      "cell_type": "code",
      "source": [
        "a=int(input(\"Enter an integer value:\"))\n",
        "if a>0:\n",
        "  print(\"The value %d is postive\" %a)\n",
        "if a<0:\n",
        "  print(\"The value %d is negative\"%a)"
      ],
      "metadata": {
        "colab": {
          "base_uri": "https://localhost:8080/"
        },
        "id": "EXBbIyjXm0G2",
        "outputId": "0f7935df-8870-42c3-e4d4-511bc1e5eb84"
      },
      "execution_count": 1,
      "outputs": [
        {
          "output_type": "stream",
          "name": "stdout",
          "text": [
            "Enter an integer value:46\n",
            "The value 46 is postive\n"
          ]
        }
      ]
    }
  ]
}