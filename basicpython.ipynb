{
  "nbformat": 4,
  "nbformat_minor": 0,
  "metadata": {
    "colab": {
      "provenance": [],
      "toc_visible": true,
      "authorship_tag": "ABX9TyN3SGddVp6q9rn8AbcSLg3U",
      "include_colab_link": true
    },
    "kernelspec": {
      "name": "python3",
      "display_name": "Python 3"
    },
    "language_info": {
      "name": "python"
    }
  },
  "cells": [
    {
      "cell_type": "markdown",
      "metadata": {
        "id": "view-in-github",
        "colab_type": "text"
      },
      "source": [
        "<a href=\"https://colab.research.google.com/github/SanjanaGopi/Python-Program-Practices/blob/main/basicpython.ipynb\" target=\"_parent\"><img src=\"https://colab.research.google.com/assets/colab-badge.svg\" alt=\"Open In Colab\"/></a>"
      ]
    },
    {
      "cell_type": "markdown",
      "source": [
        "### Basic Python Program"
      ],
      "metadata": {
        "id": "lb4uLvARj74v"
      }
    },
    {
      "cell_type": "markdown",
      "source": [],
      "metadata": {
        "id": "r6moiivGt3TV"
      }
    },
    {
      "cell_type": "markdown",
      "source": [
        " Write a python program to print variable.\n",
        "\n"
      ],
      "metadata": {
        "id": "eNXHiLRjjjMQ"
      }
    },
    {
      "cell_type": "code",
      "execution_count": null,
      "metadata": {
        "colab": {
          "base_uri": "https://localhost:8080/"
        },
        "id": "6ywpeDdqjesw",
        "outputId": "434c2a62-fc05-4faa-bc39-cd3492162632"
      },
      "outputs": [
        {
          "output_type": "stream",
          "name": "stdout",
          "text": [
            "Hello World\n"
          ]
        }
      ],
      "source": [
        "print(\"Hello World\")"
      ]
    },
    {
      "cell_type": "markdown",
      "source": [
        "Write add program"
      ],
      "metadata": {
        "id": "DikNa5B-oLRC"
      }
    },
    {
      "cell_type": "code",
      "source": [
        "print(1+4)"
      ],
      "metadata": {
        "colab": {
          "base_uri": "https://localhost:8080/"
        },
        "id": "Vuh6PUlRoRNT",
        "outputId": "1eea9509-6e19-43d3-a037-ae698b6c8105"
      },
      "execution_count": null,
      "outputs": [
        {
          "output_type": "stream",
          "name": "stdout",
          "text": [
            "5\n"
          ]
        }
      ]
    },
    {
      "cell_type": "markdown",
      "source": [
        "variables in python\n"
      ],
      "metadata": {
        "id": "ZdUHI4eZt-fU"
      }
    },
    {
      "cell_type": "code",
      "source": [
        "Bike = 100\n",
        "Car = 200\n",
        "Cycle = 300\n",
        "\n",
        "total = Bike+Car+Cycle\n",
        "print(\"Vechicles:\",Bike,Car,Cycle)\n",
        "print(total)"
      ],
      "metadata": {
        "colab": {
          "base_uri": "https://localhost:8080/"
        },
        "id": "xpMa5nuluLh7",
        "outputId": "78e75a36-d05c-4322-c7ce-491e8ad1ba28"
      },
      "execution_count": null,
      "outputs": [
        {
          "output_type": "stream",
          "name": "stdout",
          "text": [
            "Vechicles: 100 200 300\n",
            "600\n"
          ]
        }
      ]
    },
    {
      "cell_type": "markdown",
      "source": [
        "### Numbers in python"
      ],
      "metadata": {
        "id": "zBehojitvuzK"
      }
    },
    {
      "cell_type": "markdown",
      "source": [
        "adding a two numbers:"
      ],
      "metadata": {
        "id": "9Kh5hb34x9uQ"
      }
    },
    {
      "cell_type": "code",
      "source": [
        "num1=5\n",
        "num2=6\n",
        "total=num1+num2\n",
        "print(\"adding a num1+num2 is:\",total)"
      ],
      "metadata": {
        "id": "cgSqdhoIyDQj",
        "outputId": "1866fdad-5365-479d-b691-0b4683364c0e",
        "colab": {
          "base_uri": "https://localhost:8080/"
        }
      },
      "execution_count": 1,
      "outputs": [
        {
          "output_type": "stream",
          "name": "stdout",
          "text": [
            "adding a num1+num2 is: 11\n"
          ]
        }
      ]
    }
  ]
}